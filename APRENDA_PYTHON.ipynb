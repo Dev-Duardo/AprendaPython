{
  "cells": [
    {
      "cell_type": "code",
      "execution_count": null,
      "metadata": {
        "id": "55CZdx1DYpbR"
      },
      "outputs": [],
      "source": [
        "print('Hello, Python')"
      ]
    },
    {
      "cell_type": "code",
      "source": [
        "x = 1\n",
        "y = 200\n",
        "\n",
        "total = y/2\n",
        "resultado_parcial = y+x\n",
        "final = total*resultado_parcial\n",
        "\n",
        "print(total,'-',resultado_parcial,'-',final)"
      ],
      "metadata": {
        "id": "sX5pANwEoZ9Z"
      },
      "execution_count": null,
      "outputs": []
    },
    {
      "cell_type": "markdown",
      "metadata": {
        "id": "Xu6RdxnUZBPG"
      },
      "source": [
        "# **NÚMEROS**"
      ]
    },
    {
      "cell_type": "code",
      "source": [
        "a, b, c, d= 1, 2, 3, 4\n",
        "print(\"{},{},{},{},{}\".format(a,b,c,d,a+b))\n",
        "print(a)"
      ],
      "metadata": {
        "colab": {
          "base_uri": "https://localhost:8080/"
        },
        "id": "n8gu1AxZMdrI",
        "outputId": "7936b301-19bc-42af-b33e-0894ec84fdb9"
      },
      "execution_count": null,
      "outputs": [
        {
          "output_type": "stream",
          "name": "stdout",
          "text": [
            "1,2,3,4,3\n",
            "1\n"
          ]
        }
      ]
    },
    {
      "cell_type": "code",
      "execution_count": null,
      "metadata": {
        "id": "yocLdjpWY7It"
      },
      "outputs": [],
      "source": [
        "adição:\t  +\n",
        "subtração:\t-\n",
        "multiplicação:\t*\n",
        "divisão:\t/\n",
        "exponenciação:\t**\n",
        "parte inteira:\t//\n",
        "módulo: \t%"
      ]
    },
    {
      "cell_type": "code",
      "execution_count": null,
      "metadata": {
        "id": "Gcgrt7BQ-vna"
      },
      "outputs": [],
      "source": [
        "2 + 2"
      ]
    },
    {
      "cell_type": "code",
      "execution_count": null,
      "metadata": {
        "id": "36NerOmpAovE"
      },
      "outputs": [],
      "source": [
        "4 * 3.75"
      ]
    },
    {
      "cell_type": "code",
      "execution_count": null,
      "metadata": {
        "id": "ylqFp8Ml_mR-"
      },
      "outputs": [],
      "source": [
        "50 - 5*6"
      ]
    },
    {
      "cell_type": "code",
      "execution_count": null,
      "metadata": {
        "id": "MDSaJBQU_p9t"
      },
      "outputs": [],
      "source": [
        "(50 - 5*6) /4"
      ]
    },
    {
      "cell_type": "code",
      "execution_count": null,
      "metadata": {
        "id": "qrFb1o1P_wSU"
      },
      "outputs": [],
      "source": [
        "8 / 5"
      ]
    },
    {
      "cell_type": "code",
      "execution_count": null,
      "metadata": {
        "id": "fRGgS6hp_9pt"
      },
      "outputs": [],
      "source": [
        "5 // 5"
      ]
    },
    {
      "cell_type": "code",
      "execution_count": null,
      "metadata": {
        "id": "J2Ni9q5vACej",
        "colab": {
          "base_uri": "https://localhost:8080/"
        },
        "outputId": "8fcd8b4f-eb73-4b1d-f1fd-d8be051e2ef8"
      },
      "outputs": [
        {
          "output_type": "execute_result",
          "data": {
            "text/plain": [
              "3"
            ]
          },
          "metadata": {},
          "execution_count": 3
        }
      ],
      "source": [
        "8 % 5"
      ]
    },
    {
      "cell_type": "code",
      "execution_count": null,
      "metadata": {
        "id": "UBKPoChWALkc"
      },
      "outputs": [],
      "source": [
        "8**2"
      ]
    },
    {
      "cell_type": "code",
      "execution_count": null,
      "metadata": {
        "id": "EJ-70Y8vl3Yn",
        "colab": {
          "base_uri": "https://localhost:8080/"
        },
        "outputId": "19a65af9-4ee5-4b43-dc4a-7ca16d6ecd5a"
      },
      "outputs": [
        {
          "output_type": "stream",
          "name": "stdout",
          "text": [
            "5.0 \n",
            " 5.026525695313479\n"
          ]
        }
      ],
      "source": [
        "a = 25**(1/2) #RAIZ QUADRADA DE 25\n",
        "b = 127**(1/3) #RAIZ CUBICA DE 123\n",
        "print( a,'\\n',b)"
      ]
    },
    {
      "cell_type": "code",
      "execution_count": null,
      "metadata": {
        "id": "glHnHGGvpZi1",
        "colab": {
          "base_uri": "https://localhost:8080/"
        },
        "outputId": "9373cb18-be62-40b9-dc2a-8c3e8fb91d82"
      },
      "outputs": [
        {
          "output_type": "stream",
          "name": "stdout",
          "text": [
            "Digite o 1º valor: 2\n",
            "Digite o 2º valor: 4\n",
            "A soma é 6, a multiplicação é 8 e a divisão é 0.5 e a parte inteira é 0 . >>> A potência é 16, o resto é 2 e a raiz quadrada é 1.414 \n"
          ]
        }
      ],
      "source": [
        "a = int(input('Digite o 1º valor: '))\n",
        "b = int(input('Digite o 2º valor: '))\n",
        "\n",
        "s = a + b\n",
        "m = a * b\n",
        "d = a / b\n",
        "di = a // b\n",
        "e = a ** b\n",
        "r = a % b\n",
        "r2 = a ** (1/2)\n",
        "\n",
        "print('A soma é {}, a multiplicação é {} e a divisão é {} e a parte inteira é {} .'.format(s,m,d,di), end = ' >>> ')\n",
        "\n",
        "# ( xxx, end = ' >>> ') não quebrar linha.\n",
        "\n",
        "print('A potência é {}, o resto é {} e a raiz quadrada é {:.3f} '.format(e,r,r2))\n",
        "\n",
        "#{:.3f} usar 3 casas decimais."
      ]
    },
    {
      "cell_type": "markdown",
      "source": [
        "# **EXERCICIOS**"
      ],
      "metadata": {
        "id": "XVOtSS2qe6IC"
      }
    },
    {
      "cell_type": "markdown",
      "metadata": {
        "id": "ZW_aronms0mU"
      },
      "source": [
        "sucessor e antecessor"
      ]
    },
    {
      "cell_type": "code",
      "execution_count": null,
      "metadata": {
        "id": "DUEm3rols0Gd"
      },
      "outputs": [],
      "source": [
        "a = int(input('Digite o numero: '))\n",
        "su = a+1\n",
        "an = a-1\n",
        "\n",
        "print('O sucessor do numero {} é {}, e seu antecessor {}. '.format(a,su,an))"
      ]
    },
    {
      "cell_type": "markdown",
      "metadata": {
        "id": "Ui-a_FrMt7Iu"
      },
      "source": [
        "dobro, triplo e r²"
      ]
    },
    {
      "cell_type": "code",
      "execution_count": null,
      "metadata": {
        "id": "RcCXP6Q4uFaN"
      },
      "outputs": [],
      "source": [
        "a = float(input('Digite o numero: '))\n",
        "d = float(a*2)\n",
        "t = float(a*3)\n",
        "a2 = float(a**2)\n",
        "\n",
        "print('O dobro é {}, o triplo é {} e a raiz quadrada é {} !'. format(d,t,a2))\n"
      ]
    },
    {
      "cell_type": "markdown",
      "metadata": {
        "id": "VM_kmPyl8AW3"
      },
      "source": [
        "Média"
      ]
    },
    {
      "cell_type": "code",
      "execution_count": null,
      "metadata": {
        "id": "gfChNGwh7_4s"
      },
      "outputs": [],
      "source": [
        "a = float(input('Digite a primeira nota: '))\n",
        "b = float(input('Digite a segunda nota: '))\n",
        "m = float((a+b)/2)\n",
        "\n",
        "print('A média do aluno é {}.'.format(m))"
      ]
    },
    {
      "cell_type": "markdown",
      "metadata": {
        "id": "cPd75n1H8_Xy"
      },
      "source": [
        "Conversão de Metro p/ centimetro e milimetros"
      ]
    },
    {
      "cell_type": "code",
      "execution_count": null,
      "metadata": {
        "id": "3_tN_95-8-p_"
      },
      "outputs": [],
      "source": [
        "m = float(input('Digite a medida em metros: '))\n",
        "c = m*100\n",
        "ml = m*1000\n",
        "\n",
        "print('A conversão é, {} centimetros e {} milimetros.'.format(c,ml))"
      ]
    },
    {
      "cell_type": "markdown",
      "metadata": {
        "id": "X1nZXuKqG5uJ"
      },
      "source": [
        "tabuaba do numero inteiro"
      ]
    },
    {
      "cell_type": "code",
      "execution_count": null,
      "metadata": {
        "id": "vPqXzVStG6Dm",
        "colab": {
          "base_uri": "https://localhost:8080/"
        },
        "outputId": "822a4945-ac8f-4932-ca48-ffbfe3ce6511"
      },
      "outputs": [
        {
          "output_type": "stream",
          "name": "stdout",
          "text": [
            "Digite o numero inteiro: 5\n",
            "------------\n",
            "5 x  1 = 5\n",
            "5 x  2 = 10 \n",
            "5 x  3 = 15 \n",
            "5 x  4 = 20 \n",
            "5 x  5 = 25 \n",
            "5 x  6 = 30 \n",
            "5 x  7 = 35 \n",
            "5 x  8 = 40 \n",
            "5 x  9 = 45 \n",
            "5 x 10 = 50 \n",
            "------------\n"
          ]
        }
      ],
      "source": [
        "a = int(input('Digite o numero inteiro: '))\n",
        "\n",
        "print('-'*12)\n",
        "print(f'{a} x {1:2} = {a*1}')\n",
        "print('{} x {:2} = {} '.format(a,2,a*2))\n",
        "print('{} x {:2} = {} '.format(a,3,a*3))\n",
        "print('{} x {:2} = {} '.format(a,4,a*4))\n",
        "print('{} x {:2} = {} '.format(a,5,a*5))\n",
        "print('{} x {:2} = {} '.format(a,6,a*6))\n",
        "print('{} x {:2} = {} '.format(a,7,a*7))\n",
        "print('{} x {:2} = {} '.format(a,8,a*8))\n",
        "print('{} x {:2} = {} '.format(a,9,a*9))\n",
        "print('{} x {:2} = {} '.format(a,10,a*10))\n",
        "print('-'*12)"
      ]
    },
    {
      "cell_type": "markdown",
      "metadata": {
        "id": "HjWSz_vAKeXb"
      },
      "source": [
        "REAL PARA DOLLAR"
      ]
    },
    {
      "cell_type": "code",
      "execution_count": null,
      "metadata": {
        "colab": {
          "background_save": true
        },
        "id": "wu8vmWZtKeHn"
      },
      "outputs": [],
      "source": [
        "r = float(input('Quantos Reais você tem? '))\n",
        "\n",
        "d = float((5.11*r))\n",
        "\n",
        "print ('Você tem ${} dólares'.format(d))"
      ]
    },
    {
      "cell_type": "markdown",
      "source": [
        "PINTANDO PAREDE"
      ],
      "metadata": {
        "id": "1_uQYL_LNuVE"
      }
    },
    {
      "cell_type": "code",
      "source": [
        "a = float(input('Digite a altura da parede: '))\n",
        "l = float(input('Digite a Largura da parede: '))\n",
        "\n",
        "m2 = a*l\n",
        "t = 2\n",
        "t2 = m2/t\n",
        "\n",
        "print('Sua parede tem {} m², cada lata de tinta cobre {} m², você irá precisar de {} latas de tinta.'.format(m2,t,t2))\n",
        "\n"
      ],
      "metadata": {
        "id": "kip5Ib4DNxs7"
      },
      "execution_count": null,
      "outputs": []
    },
    {
      "cell_type": "markdown",
      "source": [
        "desconto de 5%"
      ],
      "metadata": {
        "id": "yNJOY904PWGR"
      }
    },
    {
      "cell_type": "code",
      "source": [
        "a = float(input('Qual o valor do produto?: R$ '))\n",
        "d = (a * 0.05)\n",
        "vf = a - d\n",
        "\n",
        "print('O valor do produto com o deconto de 5% é R$ {}'.format(vf))\n",
        "\n"
      ],
      "metadata": {
        "id": "KJnl0QMyPVnc"
      },
      "execution_count": null,
      "outputs": []
    },
    {
      "cell_type": "markdown",
      "source": [
        "Aumento de 15%"
      ],
      "metadata": {
        "id": "701zgIdpVtu4"
      }
    },
    {
      "cell_type": "code",
      "source": [
        "s = float(input('Digite o seu salário: R$ '))\n",
        "s1 = s * 0.15\n",
        "sf = s + s1\n",
        "\n",
        "print('O seu salário com o aumento de 15% é R$ {}'.format(sf))"
      ],
      "metadata": {
        "id": "uuZsDITLVtep"
      },
      "execution_count": null,
      "outputs": []
    },
    {
      "cell_type": "markdown",
      "source": [
        "TEMPERATURA"
      ],
      "metadata": {
        "id": "2NN1MyJ8fDFe"
      }
    },
    {
      "cell_type": "code",
      "source": [
        "c = float(input('Qual é a temperatura em °C '))\n",
        "\n",
        "f = float((c*(9/5)+32))\n",
        "\n",
        "print('Em fahrenheit é {} °F'.format(f))"
      ],
      "metadata": {
        "id": "_VjFC7TFfCGB"
      },
      "execution_count": null,
      "outputs": []
    },
    {
      "cell_type": "markdown",
      "source": [
        "ALUGUEL DE CARRO"
      ],
      "metadata": {
        "id": "p5eWITLkmen1"
      }
    },
    {
      "cell_type": "code",
      "source": [
        "dias = float(input('Quantos dias você alugou o carro? '))\n",
        "klm = float(input('Quantos Kilometros que você andou com o carro? '))\n",
        "\n",
        "valorA = float(60*dias + 0.15*klm)\n",
        "\n",
        "print('O valor do aluguel ficou em R$ {} '.format(valorA))"
      ],
      "metadata": {
        "id": "1WB-mVgJmeZc"
      },
      "execution_count": null,
      "outputs": []
    },
    {
      "cell_type": "markdown",
      "source": [
        "PARTE INTEIRA"
      ],
      "metadata": {
        "id": "WiytDxzTgk6N"
      }
    },
    {
      "cell_type": "code",
      "source": [
        "import math\n",
        "\n",
        "num = float(input('Digite o número real ' ))\n",
        "i = math.ceil(num)\n",
        "\n",
        "print('O a parte inteira de {} é {} '.format(num, i))"
      ],
      "metadata": {
        "id": "2kkh2adtghd-"
      },
      "execution_count": null,
      "outputs": []
    },
    {
      "cell_type": "markdown",
      "source": [
        "HIPOTENUSA"
      ],
      "metadata": {
        "id": "FpJx_Rz8WamI"
      }
    },
    {
      "cell_type": "code",
      "source": [
        "import math\n",
        "\n",
        "x = float(input('Digite o lado X do triângulo retangulo: '))\n",
        "y = float(input('Digite o lado y do triangulo retangulo: '))\n",
        "\n",
        "h = math.hypot(x, y)\n",
        "\n",
        "print('A hipotenusa é {}'.format(h))"
      ],
      "metadata": {
        "id": "_HYSYa9hWdd6"
      },
      "execution_count": null,
      "outputs": []
    },
    {
      "cell_type": "markdown",
      "source": [
        "sen, cos, tan"
      ],
      "metadata": {
        "id": "a8HDP0TsYfyr"
      }
    },
    {
      "cell_type": "code",
      "source": [
        "import math\n",
        "\n",
        "a = float(input('Digite o ângulo: '))\n",
        "\n",
        "s = math.sin(a)\n",
        "c = math.cos(a)\n",
        "t = math.tan(a)\n",
        "\n",
        "print('O seno do ângulo é {}, o cosseno é {} e a tangente é {}. '.format(s,c,t))"
      ],
      "metadata": {
        "id": "F01xehFsYiWn"
      },
      "execution_count": null,
      "outputs": []
    },
    {
      "cell_type": "markdown",
      "source": [
        "sortear aluno\n"
      ],
      "metadata": {
        "id": "BoCNScl6aQYa"
      }
    },
    {
      "cell_type": "code",
      "source": [
        "import random\n",
        "\n",
        "a = random.choice(['José', 'Antonio', 'Karem', 'Maria'])\n",
        "\n",
        "print('Quem vai',a)"
      ],
      "metadata": {
        "id": "kdh8jULsaT1A",
        "colab": {
          "base_uri": "https://localhost:8080/"
        },
        "outputId": "a6a31d52-8ebd-48bb-b67c-24034977d360"
      },
      "execution_count": null,
      "outputs": [
        {
          "output_type": "stream",
          "name": "stdout",
          "text": [
            "Quem vai Antonio\n"
          ]
        }
      ]
    },
    {
      "cell_type": "code",
      "source": [
        "#consult dollar quote with python\n",
        "#\n",
        "import requests\n",
        "import json\n",
        "\n",
        "res = requests.get('http://economia.awesomeapi.com.br/json/all/USD-BRL')\n",
        "\n",
        "# res.status_code = if the request is successful it will return 200\n",
        "\n",
        "if res.status_code == 200:\n",
        "  dolar = res.json()['USD']['low']\n",
        "  print(f'O valor do dólar é {dolar}')\n",
        "else:\n",
        "  print('Erro ao buscar valor do dólar')"
      ],
      "metadata": {
        "colab": {
          "base_uri": "https://localhost:8080/"
        },
        "id": "rjAulXJhuAwP",
        "outputId": "00f8ea32-b4fd-41b7-f0cb-65198ad14443"
      },
      "execution_count": null,
      "outputs": [
        {
          "output_type": "stream",
          "name": "stdout",
          "text": [
            "O valor do dólar é 4.9208\n"
          ]
        }
      ]
    },
    {
      "cell_type": "code",
      "source": [
        "from math import factorial\n",
        "\n",
        "n = int(input(\"Digite um numero, jovem!\"))\n",
        "f = factorial(n)\n",
        "\n",
        "print(\"O fatorial de {} é {}\".format(n, f))"
      ],
      "metadata": {
        "colab": {
          "base_uri": "https://localhost:8080/"
        },
        "id": "q-GtMV1pAyjf",
        "outputId": "bac225ba-d282-4b70-9d87-30ceaa1261c6"
      },
      "execution_count": null,
      "outputs": [
        {
          "output_type": "stream",
          "name": "stdout",
          "text": [
            "Digite um numero, jovem!5\n",
            "O fatorial de 5 é 120\n"
          ]
        }
      ]
    },
    {
      "cell_type": "code",
      "source": [
        "def fatorial(x):\n",
        "  f = 1\n",
        "  for i in range(1, x + 1):\n",
        "    f *= i\n",
        "  return f\n",
        "\n",
        "x = int(input(\"Digite um número: \"))\n",
        "\n",
        "print(f\"O Fatorial de {x} é {fatorial(x)}\")"
      ],
      "metadata": {
        "colab": {
          "base_uri": "https://localhost:8080/"
        },
        "id": "UZ0Y--W_CBcp",
        "outputId": "28999f66-ac1d-4979-c1ba-cfc4292947d0"
      },
      "execution_count": null,
      "outputs": [
        {
          "output_type": "stream",
          "name": "stdout",
          "text": [
            "Digite um número: 5\n",
            "O Fatorial de 5 é 120\n"
          ]
        }
      ]
    },
    {
      "cell_type": "code",
      "source": [
        "def find_sum(max_value):\n",
        "  sum_value = 0\n",
        "  for i in range(1, max_value + 1, 100000):\n",
        "    sum_value += sum(range(i, min(i + 100000, max_value + 1)))\n",
        "  return sum_value\n",
        "\n",
        "max_value = 1000000000\n",
        "sum_value = find_sum(max_value)\n",
        "print(f\"The sum of integers from 1 to {max_value} is {sum_value}\")"
      ],
      "metadata": {
        "id": "IPF-lb7AGTg5"
      },
      "execution_count": null,
      "outputs": []
    },
    {
      "cell_type": "markdown",
      "source": [],
      "metadata": {
        "id": "ygT385zKQSpw"
      }
    },
    {
      "cell_type": "markdown",
      "source": [
        "Se o valor máximo for 1 bilhão, o código simples que você forneceu levará muito tempo para executar. Isso porque o loop for itera sobre cada inteiro de 1 a 1 bilhão, o que é um total de 1 bilhão de iterações."
      ],
      "metadata": {
        "id": "quaJTgnHS9WU"
      }
    },
    {
      "cell_type": "code",
      "source": [
        "def find_sum(max_value):\n",
        "  sum = 0\n",
        "  for i in range(1, max_value + 1):\n",
        "    sum += i\n",
        "  return sum\n",
        "\n",
        "max_value = int(input(\"Digite o valor: \"))\n",
        "print(f\"A soma dos valores dos inteiros de 1 até {max_value} é {find_sum(max_value)}\")"
      ],
      "metadata": {
        "id": "nob0ma02IU26"
      },
      "execution_count": null,
      "outputs": []
    },
    {
      "cell_type": "markdown",
      "source": [
        "Para reduzir o tempo de execução, podemos usar um algoritmo mais eficiente. Um algoritmo eficiente para calcular a soma de inteiros de 1 a um valor máximo é a fórmula de Gauss:\n",
        "\n",
        "S = (n * (n + 1)) / 2"
      ],
      "metadata": {
        "id": "FYuJmFMwS-_o"
      }
    },
    {
      "cell_type": "code",
      "source": [
        "def find_sum(max_value):\n",
        "  \"\"\"\n",
        "  Calcula a soma de inteiros de 1 a um valor máximo especificado.\n",
        "\n",
        "  Argumentos:\n",
        "    max_value: O limite superior para a soma (inclusivo).\n",
        "\n",
        "  Retorna:\n",
        "    A soma de inteiros de 1 a max_value.\n",
        "  \"\"\"\n",
        "\n",
        "  # Declara uma variável para armazenar a soma.\n",
        "  soma = 0\n",
        "\n",
        "  # Calcula a soma usando a fórmula de Gauss.\n",
        "  soma = (max_value * (max_value + 1)) / 2\n",
        "\n",
        "  # Retorna a soma.\n",
        "  return soma\n",
        "\n",
        "# Exemplo de uso\n",
        "max_value = 100000000000000000000000000000\n",
        "soma = find_sum(max_value)\n",
        "print(f\"A soma de inteiros de 1 a {max_value} é {soma}\")\n"
      ],
      "metadata": {
        "colab": {
          "base_uri": "https://localhost:8080/"
        },
        "id": "86IxnajVTDKH",
        "outputId": "215ba1f4-d665-4b1e-a1b9-b117b8470186"
      },
      "execution_count": null,
      "outputs": [
        {
          "output_type": "stream",
          "name": "stdout",
          "text": [
            "A soma de inteiros de 1 a 100000000000000000000000000000 é 5e+57\n"
          ]
        }
      ]
    },
    {
      "cell_type": "markdown",
      "source": [
        "# **MÓDULOS**"
      ],
      "metadata": {
        "id": "1NIJuLHKtx1r"
      }
    },
    {
      "cell_type": "code",
      "source": [
        "import math # importou toda a biblioteca math\n",
        "num = int(input('Digite um número: '))\n",
        "\n",
        "raiz = math.sqrt(num)\n",
        "\n",
        "print('A raiz de {} é igual a {:.2f}'.format(num, raiz))"
      ],
      "metadata": {
        "id": "uuaUw1bItwbl"
      },
      "execution_count": null,
      "outputs": []
    },
    {
      "cell_type": "code",
      "source": [
        "from math import sqrt, floor #importou somente a função sqrt da biblioteca math\n",
        "\n",
        "num = int(input('Digite um numero: '))\n",
        "raiz = sqrt(num) #o metodo veio diretamente para a pasta, não é preciso utilizar o \"math.\"\n",
        "\n",
        "print('A raiz de {} é igual a {}'.format(num, floor(raiz)))\n"
      ],
      "metadata": {
        "id": "FmKt0NEZyX1l"
      },
      "execution_count": null,
      "outputs": []
    },
    {
      "cell_type": "code",
      "source": [
        "import random\n",
        "num = random.random()\n",
        "num2 = random.randint(1, 10)\n",
        "\n",
        "print(num)\n",
        "print(num2)"
      ],
      "metadata": {
        "id": "PGgYeCEnPwyT",
        "colab": {
          "base_uri": "https://localhost:8080/"
        },
        "outputId": "5b41edf6-1e27-4bdf-a996-8c4ade373a3a"
      },
      "execution_count": null,
      "outputs": [
        {
          "output_type": "stream",
          "name": "stdout",
          "text": [
            "0.03145531648148592\n",
            "7\n"
          ]
        }
      ]
    },
    {
      "cell_type": "code",
      "source": [
        "pip install emoji --upgrade #instalando biblioteca de emojis"
      ],
      "metadata": {
        "id": "8edlRYD0Sg_q",
        "colab": {
          "base_uri": "https://localhost:8080/"
        },
        "outputId": "77e7a616-dcdd-4755-c24e-3b279d1ccae3"
      },
      "execution_count": null,
      "outputs": [
        {
          "output_type": "stream",
          "name": "stdout",
          "text": [
            "Collecting emoji\n",
            "  Downloading emoji-2.9.0-py2.py3-none-any.whl (397 kB)\n",
            "\u001b[2K     \u001b[90m━━━━━━━━━━━━━━━━━━━━━━━━━━━━━━━━━━━━━━━━\u001b[0m \u001b[32m397.5/397.5 kB\u001b[0m \u001b[31m4.6 MB/s\u001b[0m eta \u001b[36m0:00:00\u001b[0m\n",
            "\u001b[?25hInstalling collected packages: emoji\n",
            "Successfully installed emoji-2.9.0\n"
          ]
        }
      ]
    },
    {
      "cell_type": "code",
      "source": [
        "import emoji\n",
        "print(emoji.emojize('Olá Mundo! :thumbs_up:'))\n"
      ],
      "metadata": {
        "id": "0qvDvOGGRkg_",
        "colab": {
          "base_uri": "https://localhost:8080/"
        },
        "outputId": "ce6315b5-fcc0-491d-aeaf-785cafa64f6d"
      },
      "execution_count": null,
      "outputs": [
        {
          "output_type": "stream",
          "name": "stdout",
          "text": [
            "Olá Mundo! 👍\n"
          ]
        }
      ]
    },
    {
      "cell_type": "markdown",
      "metadata": {
        "id": "xJ-W_UFlZvGC"
      },
      "source": [
        "# **Atribuições de variáveis**"
      ]
    },
    {
      "cell_type": "code",
      "execution_count": null,
      "metadata": {
        "id": "RLlypFz8AQJL"
      },
      "outputs": [],
      "source": [
        "a = 2 # = atribuir valor a uma variável\n",
        "b = 3\n",
        "\n",
        "b * a"
      ]
    },
    {
      "cell_type": "code",
      "execution_count": null,
      "metadata": {
        "id": "Y0oPBvTwAv9U"
      },
      "outputs": [],
      "source": [
        "a, b = 2, 3\n",
        "\n",
        "a * b"
      ]
    },
    {
      "cell_type": "code",
      "execution_count": null,
      "metadata": {
        "id": "TKljn7jJxNG7"
      },
      "outputs": [],
      "source": [
        "#modo correto de expressar o sinal negativo de um número\n",
        "\n",
        "(-3)**2"
      ]
    },
    {
      "cell_type": "code",
      "execution_count": null,
      "metadata": {
        "id": "hoIGmK4oBBgj"
      },
      "outputs": [],
      "source": [
        "#O valor da última expressão exibida é atribuida  ao\n",
        "\n",
        "tax = 12.5 / 100\n",
        "price = 100.50\n",
        "\n",
        "tp = price * tax\n",
        "\n",
        "round(tp, 2)"
      ]
    },
    {
      "cell_type": "markdown",
      "metadata": {
        "id": "v7CUDhG-TOvH"
      },
      "source": [
        "# **STRINGS**"
      ]
    },
    {
      "cell_type": "code",
      "execution_count": null,
      "metadata": {
        "id": "QMq-BbaxTWXu"
      },
      "outputs": [],
      "source": [
        "# Para criar uma string só precisa usar aspas simples ou duplas\n",
        "'Hello World'\n",
        "\n",
        "# a a maneira correta para imrimir uma string é usar o print()\n",
        "print('Hello World 1')\n",
        "\n",
        "# use o \\n para inserir nova linha\n",
        "a = \"Hi!\\nHello World \\nNova Linha\"\n",
        "\n",
        "print(a)\n",
        "\n",
        "#podemos usar a função len() para verificar o comprimento de uma string\n",
        "len('Hello World')\n"
      ]
    },
    {
      "cell_type": "code",
      "execution_count": null,
      "metadata": {
        "id": "eUHzRKQ5VDh_",
        "colab": {
          "base_uri": "https://localhost:8080/"
        },
        "outputId": "085c0b53-d14c-4817-880d-678334ab8019"
      },
      "outputs": [
        {
          "output_type": "stream",
          "name": "stdout",
          "text": [
            "1 - P\n",
            "2 - n\n",
            "3 - n\n",
            "4 - o\n",
            "5 - Pytho\n",
            "6 - Py\n",
            "7 - on\n",
            "8 - Python\n",
            "9 - Pto\n",
            "10 - <built-in method upper of str object at 0x7a06b8b9a870>\n",
            "11 - noht\n"
          ]
        }
      ],
      "source": [
        "#usamos colcheites após um objeto para chamar o índice\n",
        "\n",
        "word = 'Python'\n",
        "\n",
        "print('1 -',word[0]) #character in position 0\n",
        "\n",
        "print('2 -',word[5]) #character in position 5\n",
        "\n",
        "print('3 -',word[-1]) #counting starts on the right wiht the operador -\n",
        "\n",
        "print('4 -',word[-2])\n",
        "\n",
        "print('5 -',word[:-1]) #catch every,the last no\n",
        "\n",
        "print('6 -',word[0:2]) #characters from the position 0 is included and position 2 is excluded\n",
        "\n",
        "print('7 -',word[-2:]) #characters from second-last is included to the end\n",
        "\n",
        "print('8 -',word[:2] + word[2:])\n",
        "\n",
        "print('9 -',word[::2]) #take two by two\n",
        "\n",
        "print('10 -',word[::-1].upper) #reverse\n",
        "\n",
        "print('11 -',word[:1:-1])"
      ]
    },
    {
      "cell_type": "code",
      "execution_count": null,
      "metadata": {
        "id": "uXQVjchnmxfQ",
        "colab": {
          "base_uri": "https://localhost:8080/"
        },
        "outputId": "9337305b-afc3-405c-8ee3-56668ee150b5"
      },
      "outputs": [
        {
          "output_type": "stream",
          "name": "stdout",
          "text": [
            "nohtyP\n",
            "\n",
            "6\n"
          ]
        }
      ],
      "source": [
        "a = 'Python'\n",
        "\n",
        "print(a[::-1])\n",
        "\n",
        "print(a[6:])\n",
        "\n",
        "print(len(a))"
      ]
    },
    {
      "cell_type": "code",
      "execution_count": null,
      "metadata": {
        "id": "oPGpLXm2BL2_"
      },
      "outputs": [],
      "source": [
        "#As strings possuem uma propriedade de imutabilidade\n",
        "a = 'hello world'\n",
        "\n",
        "a[0] = 'A'\n",
        "\n",
        "print(a)"
      ]
    },
    {
      "cell_type": "code",
      "execution_count": null,
      "metadata": {
        "id": "cJzy-470Bq8Z"
      },
      "outputs": [],
      "source": [
        "# porem, elas podem ser concatenadas\n",
        "a = 'Hello World'\n",
        "\n",
        "a = a + ' Good Morning'\n",
        "\n",
        "print(a)"
      ]
    },
    {
      "cell_type": "code",
      "execution_count": null,
      "metadata": {
        "id": "PZq9go5MCXHh",
        "colab": {
          "base_uri": "https://localhost:8080/",
          "height": 54
        },
        "outputId": "77f1c5a2-5356-4d3f-b8ed-c0fda2d6c3cd"
      },
      "outputs": [
        {
          "output_type": "execute_result",
          "data": {
            "text/plain": [
              "'Google Google Google Google Google Google Google Google '"
            ],
            "application/vnd.google.colaboratory.intrinsic+json": {
              "type": "string"
            }
          },
          "metadata": {},
          "execution_count": 31
        }
      ],
      "source": [
        "#podemos usar o símbolo de multiplicação para criar repetições\n",
        "g = 'Google '\n",
        "\n",
        "g*8\n"
      ]
    },
    {
      "cell_type": "markdown",
      "metadata": {
        "id": "Sx0t9E1-Yp2D"
      },
      "source": [
        "Métodos embutidos em strings\n"
      ]
    },
    {
      "cell_type": "code",
      "execution_count": null,
      "metadata": {
        "colab": {
          "base_uri": "https://localhost:8080/"
        },
        "id": "Z6A9hobIYlO9",
        "outputId": "11b28dba-7748-4ed7-f002-da7952bc4e38"
      },
      "outputs": [
        {
          "output_type": "stream",
          "name": "stdout",
          "text": [
            "HELLO WORLD\n",
            "hello world\n",
            "['Hello', 'World']\n",
            "['Hell', ' W', 'rld']\n"
          ]
        }
      ],
      "source": [
        "#métodos: objeto.método(parâmetro)\n",
        "a = \"Hello World\"\n",
        "\n",
        "print(a.upper()) #caixa alta\n",
        "\n",
        "print(a.lower()) #caixa baixa\n",
        "\n",
        "print(a.split()) #divide a string\n",
        "\n",
        "print(a.split('o')) #divide a string, e remove elemento expecifico"
      ]
    },
    {
      "cell_type": "code",
      "execution_count": null,
      "metadata": {
        "id": "g8Qh0AMSbCQI"
      },
      "outputs": [],
      "source": [
        "a = \"Hello Python\"\n",
        "\n",
        "print(a.split())\n",
        "\n",
        "print(a.upper())"
      ]
    },
    {
      "cell_type": "markdown",
      "metadata": {
        "id": "BGRfwGRCbiy2"
      },
      "source": [
        "# **FORMATAÇÃO DE IMPRESSÃO**"
      ]
    },
    {
      "cell_type": "code",
      "execution_count": null,
      "metadata": {
        "id": "FO1HHwajbzwV"
      },
      "outputs": [],
      "source": [
        "#Básico\n",
        "print('Hi, i\\'m Python')\n",
        "\n",
        "#Podemos usar o %s para formatar strings em suas instruções de impressão\n",
        "a = 'Eduardo'\n",
        "print('\\nMy name is %s'%(a))\n",
        "\n",
        "#pontos flutuantes. usam o formto %n1.n2f: n1 = numero minimo total de digitos que a cadeia deve conter\n",
        "#n2 são as quantidas de numeros que devem aparecer após o ponto decimal.(pode ser em branco se não possuir muitos numeros)\n",
        "print('\\nNúmeros flutuantes: %0.2f' %(1888.1555))\n",
        "\n",
        "print('\\nNúmeros flutuantes: %0.4f' %(1888.1555))"
      ]
    },
    {
      "cell_type": "markdown",
      "metadata": {
        "id": "Q7xTjroKetSJ"
      },
      "source": [
        "Métodos de formato de conversão"
      ]
    },
    {
      "cell_type": "code",
      "execution_count": null,
      "metadata": {
        "id": "OUEJwQMneqhP"
      },
      "outputs": [],
      "source": [
        "# Os dois métodos %s e %r, convertem quase qualquer objeto Pytho em uma string usando dois métodos separados: str() e repr().\n",
        "print('Here is a number: %s and Here is a string: %s' %(123.5, 'Hi'))\n",
        "\n",
        "print('Here is a number: %r and Here is a string: %r' %(123.5, 'Hi'))\n",
        "\n",
        "#formatações multiplas\n",
        "print('One: %s, Two: %1.3f and Three: %r' %('First', 12.45678, 22))\n"
      ]
    },
    {
      "cell_type": "markdown",
      "metadata": {
        "id": "3zKZpxVWg1Uh"
      },
      "source": [
        "Melhor maneira de formatar objetos: **string.format()**\n",
        "\n",
        "\n",
        "\n",
        "\n"
      ]
    },
    {
      "cell_type": "code",
      "execution_count": null,
      "metadata": {
        "id": "WIkFCLVLg5N3"
      },
      "outputs": [],
      "source": [
        "#sintaxe: ' String aqui {variavel}'.format(variavel = alguma coisa')\n",
        "\n",
        "\n",
        "print('Python is very {}'.format('good'))\n",
        "\n",
        "print('\\none: {y}; two: {y}; three: {y}'.format(y= 'Python'))\n",
        "\n",
        "print('\\n1 - {a}; 2 - {b}; 3 - {c} '.format(a = 'amendoin', b = 'abacaxi', c = 'banana'))"
      ]
    },
    {
      "cell_type": "code",
      "execution_count": null,
      "metadata": {
        "id": "LSNiNkHgji9g"
      },
      "outputs": [],
      "source": [
        "print('O diâmetro da {a} é de {b} kilômetros.'.format(a= 'Terra', b = 12742))\n",
        "\n",
        "p = 'Terra'\n",
        "d = 12742\n",
        "\n",
        "print('\\nO diâmetro da {} é de {} Kilômetros.'.format(p, d))"
      ]
    },
    {
      "cell_type": "markdown",
      "metadata": {
        "id": "WZv0LDvfAPdP"
      },
      "source": [
        "teste"
      ]
    },
    {
      "cell_type": "code",
      "execution_count": null,
      "metadata": {
        "id": "sP0SGtSW-Jht"
      },
      "outputs": [],
      "source": [
        "n0 = input('Olá, qual o seu nome?')\n",
        "\n",
        "print('Bem vindo {}!'.format(n0))\n",
        "\n",
        "n1 = int(input('Digite o primeito número inteiro: '))\n",
        "n2 = int(input('Digite o segundo número inteiro: '))\n",
        "\n",
        "s = n1 + n2\n",
        "\n",
        "print('A soma entre {} e {} é: {}'. format(n1, n2, s))"
      ]
    },
    {
      "cell_type": "code",
      "execution_count": null,
      "metadata": {
        "id": "6dhwvHlOBFoO",
        "colab": {
          "base_uri": "https://localhost:8080/"
        },
        "outputId": "a5e9900f-bebf-4e2d-afdf-d6395a85a052"
      },
      "outputs": [
        {
          "output_type": "stream",
          "name": "stdout",
          "text": [
            "Digite algo: Ok\n",
            "False\n",
            "True\n",
            "True\n"
          ]
        }
      ],
      "source": [
        "n = input(\"Digite algo: \")\n",
        "print(n.isnumeric()) #tell me if it´s a number\n",
        "print(n.isalpha()) #Tell me if it´s a letter\n",
        "print(n.isalnum()) #Tell me if it´s is a alpha numeric"
      ]
    },
    {
      "cell_type": "code",
      "execution_count": null,
      "metadata": {
        "id": "3XdfPCFdErK_"
      },
      "outputs": [],
      "source": [
        "n = input('Digite algo: ')\n",
        "\n",
        "print('Qual é o tipo?', type(n))\n",
        "print('Está em maisculo?', n.isupper())\n",
        "print('Está capitalizada?', n.istitle())\n",
        "print('É Alpha numerico?', n.isalnum())\n",
        "print('È uma palavra?', n.isalpha())\n",
        "print('É um caractere ASCII?', n.isascii())\n",
        "print('É decimal?', n.isdecimal())\n",
        "print('É um digito?', n.isdigit())\n",
        "print('É identificavél?', n.isidentifier())\n",
        "print('Está em minusculo?', n.islower())\n",
        "print('É numerico?', n.isnumeric())\n",
        "print('É printavel?', n.isprintable())\n",
        "print('É espaço?', n.isspace())\n"
      ]
    },
    {
      "cell_type": "code",
      "execution_count": null,
      "metadata": {
        "id": "f3AmX8MqnJD2",
        "colab": {
          "base_uri": "https://localhost:8080/"
        },
        "outputId": "d7185ccb-26ce-4468-f32c-04fab4c9fbb2"
      },
      "outputs": [
        {
          "output_type": "stream",
          "name": "stdout",
          "text": [
            "Qual é o seu nome? Dudu\n",
            "Prazer em te conhecer ========Dudu========!\n"
          ]
        }
      ],
      "source": [
        "nome = input('Qual é o seu nome? ')\n",
        "#1: {:20} dar 20 espacos;\n",
        "#2: {:>20} alinhar a direita dos vinte espaços;\n",
        "#3: {:<20} alinhar a esquerda dos vinte espaços;\n",
        "#4: {:^20} alinha no centro dos 20 espaços;\n",
        "#5 - {:=^20} alinhar entre os sinais de iguais!\n",
        "print('Prazer em te conhecer {:=^20}!'.format(nome))"
      ]
    },
    {
      "cell_type": "markdown",
      "metadata": {
        "id": "pXGlHqwA0q1_"
      },
      "source": [
        "# **IF, ELIF, ELSE**\n"
      ]
    },
    {
      "cell_type": "code",
      "execution_count": null,
      "metadata": {
        "id": "YiRHU2bb0xB7"
      },
      "outputs": [],
      "source": [
        "#  if case1:\n",
        "#    perfom action1\n",
        "#  elif case2:\n",
        "#    perform action2\n",
        "#  else:\n",
        "#    perform action3\n",
        "if True:\n",
        "  print('It was true!')"
      ]
    },
    {
      "cell_type": "code",
      "execution_count": null,
      "metadata": {
        "id": "OlwFhNtz2Gnd"
      },
      "outputs": [],
      "source": [
        "x = False\n",
        "\n",
        "if x:\n",
        "  print('x was true!')\n",
        "else:\n",
        "  print('I will be printed in any case where x is not true')"
      ]
    },
    {
      "cell_type": "code",
      "execution_count": null,
      "metadata": {
        "id": "NNUyVhk22jvE",
        "colab": {
          "base_uri": "https://localhost:8080/"
        },
        "outputId": "d4a981ea-530e-4f27-e213-96c85e3349fd"
      },
      "outputs": [
        {
          "output_type": "stream",
          "name": "stdout",
          "text": [
            "Welcome to the bank\n"
          ]
        }
      ],
      "source": [
        "# múltiple branches\n",
        "\n",
        "loc = 'bank'\n",
        "\n",
        "if loc == 'Auto Shop':\n",
        " print('Welcome to the Auto Shop')\n",
        "elif loc == 'bank':\n",
        " print ('Welcome to the bank')\n",
        "else:\n",
        " print(\"Where are you?\")"
      ]
    },
    {
      "cell_type": "code",
      "source": [
        "a = input('Digite o primeiro numero: ')\n",
        "b = input('Digite o segundo numero: ')\n",
        "c = input('Digite o terceiro numero: ')"
      ],
      "metadata": {
        "id": "EePLf1z-7FkQ"
      },
      "execution_count": null,
      "outputs": []
    },
    {
      "cell_type": "markdown",
      "metadata": {
        "id": "Ad31DRLpkdPg"
      },
      "source": [
        "#**FOR**"
      ]
    },
    {
      "cell_type": "code",
      "execution_count": null,
      "metadata": {
        "id": "MUEmYGNGkgwv"
      },
      "outputs": [],
      "source": [
        "l = [1, 2, 3, 4, 5, 6, 7, 8, 9, 10]\n",
        "\n",
        "for i in l:\n",
        " print(i)"
      ]
    },
    {
      "cell_type": "code",
      "execution_count": null,
      "metadata": {
        "id": "R4a1Wb-flGtc"
      },
      "outputs": [],
      "source": [
        "#checking if the number is par\n",
        "l = [1, 2, 3, 4, 5, 6, 7, 8, 9, 10]\n",
        "\n",
        "for i in l:\n",
        " if i % 2 == 0:\n",
        "  print(i)"
      ]
    },
    {
      "cell_type": "code",
      "execution_count": null,
      "metadata": {
        "id": "cpBIQdsu2PvW"
      },
      "outputs": [],
      "source": [
        "#creat a loop to summarize the list\n",
        "l = [1, 2, 3, 4, 5, 6, 7, 8, 9, 10]\n",
        "\n",
        "list_sum = 0\n",
        "\n",
        "for i in l:\n",
        "  list_sum = list_sum + i\n",
        "\n",
        "print(list_sum)"
      ]
    },
    {
      "cell_type": "markdown",
      "metadata": {
        "id": "ZwQJ-Bdy3cRA"
      },
      "source": [
        "Strings are sequences, when we iterate trought them, we are acessing each item in the string."
      ]
    },
    {
      "cell_type": "code",
      "execution_count": null,
      "metadata": {
        "id": "a_hb-nBi3aqu"
      },
      "outputs": [],
      "source": [
        "for letter in ' This is a string.':\n",
        " print(letter)"
      ]
    },
    {
      "cell_type": "code",
      "execution_count": null,
      "metadata": {
        "id": "6TyuZKk85Y6T"
      },
      "outputs": [],
      "source": [
        "#Tuplas\n",
        "tup = (1,2,3,4,5)\n",
        "\n",
        "for t in tup:\n",
        "  print(t)"
      ]
    },
    {
      "cell_type": "code",
      "execution_count": null,
      "metadata": {
        "id": "cS7-JemJtywi"
      },
      "outputs": [],
      "source": [
        "#printing tuplas from the list\n",
        "l = [(2,5), (8,9), (7,3)]\n",
        "\n",
        "for tup in l:\n",
        "  print(tup)\n",
        "\n",
        "#unpacking: printing a tuple item\n",
        "for (tup1, tup2) in l:\n",
        "  print(tup1)"
      ]
    },
    {
      "cell_type": "code",
      "execution_count": null,
      "metadata": {
        "id": "VSucFgpS5qlt"
      },
      "outputs": [],
      "source": [
        "#unpacking trought the dictionary\n",
        "\n",
        "d = {'k1':1, 'k2':2, 'k3':3}\n",
        "\n",
        "for item in d:\n",
        "  print(item)\n",
        "\n",
        "#printing keys and values\n",
        "for k,v in d.items():\n",
        "  print(k)\n",
        "  print(v)"
      ]
    },
    {
      "cell_type": "markdown",
      "metadata": {
        "id": "VWUQsMHd-Nyd"
      },
      "source": [
        "#**WHILE**\n"
      ]
    },
    {
      "cell_type": "code",
      "execution_count": null,
      "metadata": {
        "id": "5jHFXzy7-kYG"
      },
      "outputs": [],
      "source": [
        "x = 0  # x has been defined\n",
        "\n",
        "while x < 10:  # defined loop\n",
        "  print('x is currently: ', x)\n",
        "  print(' x is stll less than 10, adding  1 to x')\n",
        "  x += 1 # will add one to x after each repeat, until it reaches the value\n",
        "\n",
        "if x == 10:\n",
        "  print('x now is 10')\n"
      ]
    },
    {
      "cell_type": "code",
      "execution_count": null,
      "metadata": {
        "id": "IdYPi640BL7q"
      },
      "outputs": [],
      "source": [
        "x = 0\n",
        "\n",
        "while x < 10:\n",
        "  print('x is currently: ', x)\n",
        "  print(' x is stll less than 10, adding  1 to x')\n",
        "  x += 1\n",
        "  if x == 3:\n",
        "    print('x == 3')\n",
        "  else:\n",
        "    print('continuing...')\n",
        "    continue"
      ]
    },
    {
      "cell_type": "code",
      "execution_count": null,
      "metadata": {
        "id": "7hkYaAaLB4xS"
      },
      "outputs": [],
      "source": [
        "x = 0\n",
        "\n",
        "while x < 10:\n",
        "  print('x is currently: ', x)\n",
        "  print(' x is stll less than 10, adding  1 to x')\n",
        "  x += 1\n",
        "  if x == 3:\n",
        "    print('breaking because x == 3')\n",
        "    break\n",
        "  else:\n",
        "    print('continuing...')\n"
      ]
    },
    {
      "cell_type": "markdown",
      "metadata": {
        "id": "EJj7d4n6O1hU"
      },
      "source": [
        "#**RANGE**"
      ]
    },
    {
      "cell_type": "markdown",
      "metadata": {
        "id": "z7XZ6ZhpQ7w9"
      },
      "source": [
        "Allows us to create a sequence of numbers that range from a starting point to an ending point. You can also specify the step size.\n"
      ]
    },
    {
      "cell_type": "code",
      "execution_count": null,
      "metadata": {
        "id": "p7mZs4uTO1Cz",
        "outputId": "1a2b605e-e8ee-4f96-809f-c3e26c2518bf",
        "colab": {
          "base_uri": "https://localhost:8080/"
        }
      },
      "outputs": [
        {
          "output_type": "execute_result",
          "data": {
            "text/plain": [
              "range(0, 10)"
            ]
          },
          "metadata": {},
          "execution_count": 4
        }
      ],
      "source": [
        "range(0, 10)\n",
        "#the funtion does not pruduce a list, we need to inform you that we want it\n",
        "# to be converted to a list."
      ]
    },
    {
      "cell_type": "code",
      "execution_count": null,
      "metadata": {
        "id": "BlUn-pCxSu7O",
        "outputId": "ccbed4dd-50a4-4ee3-e0e6-3e1f9e6e5be5",
        "colab": {
          "base_uri": "https://localhost:8080/"
        }
      },
      "outputs": [
        {
          "output_type": "execute_result",
          "data": {
            "text/plain": [
              "[0, 1, 2, 3, 4, 5, 6, 7, 8, 9]"
            ]
          },
          "metadata": {},
          "execution_count": 5
        }
      ],
      "source": [
        "list(range(0, 10))"
      ]
    },
    {
      "cell_type": "code",
      "execution_count": null,
      "metadata": {
        "id": "supXF4KpS3gu",
        "colab": {
          "base_uri": "https://localhost:8080/"
        },
        "outputId": "a89e2851-8c82-4fa9-b166-12c202da4809"
      },
      "outputs": [
        {
          "output_type": "execute_result",
          "data": {
            "text/plain": [
              "[0, 2, 4, 6, 8, 10, 12, 14, 16]"
            ]
          },
          "metadata": {},
          "execution_count": 2
        }
      ],
      "source": [
        "r = range(0, 18, 2)\n",
        "\n",
        "list(r)"
      ]
    },
    {
      "cell_type": "code",
      "execution_count": null,
      "metadata": {
        "id": "Y1ztuDCpTG9k"
      },
      "outputs": [],
      "source": [
        "# we can integrate about it in a for\n",
        "for i in range(0, 10):\n",
        "  print(i)"
      ]
    },
    {
      "cell_type": "code",
      "execution_count": null,
      "metadata": {
        "id": "MtiCe-3bVXKl",
        "colab": {
          "base_uri": "https://localhost:8080/"
        },
        "outputId": "30bef936-bbde-4dd5-e53c-ffca1cc2f6a6"
      },
      "outputs": [
        {
          "output_type": "stream",
          "name": "stdout",
          "text": [
            "3 - Fizz\n",
            "5 - Buzz\n",
            "6 - Fizz\n",
            "9 - Fizz\n",
            "10 - Buzz\n",
            "12 - Fizz\n",
            "15 - FizzBuzz\n",
            "15 - Fizz\n",
            "15 - Buzz\n",
            "18 - Fizz\n",
            "20 - Buzz\n",
            "21 - Fizz\n",
            "24 - Fizz\n",
            "25 - Buzz\n",
            "27 - Fizz\n",
            "30 - FizzBuzz\n",
            "30 - Fizz\n",
            "30 - Buzz\n",
            "33 - Fizz\n",
            "35 - Buzz\n",
            "36 - Fizz\n",
            "39 - Fizz\n",
            "40 - Buzz\n",
            "42 - Fizz\n",
            "45 - FizzBuzz\n",
            "45 - Fizz\n",
            "45 - Buzz\n",
            "48 - Fizz\n",
            "50 - Buzz\n"
          ]
        }
      ],
      "source": [
        "r = range(1, 51) #I started from q because 0 is multiple of 5 and 3.\n",
        "\n",
        "for i in r:\n",
        "  if i % 3 == 0 and i % 5 == 0:\n",
        "    print(i, '- FizzBuzz')\n",
        "  if i % 3 == 0:\n",
        "    print(i, '- Fizz')\n",
        "  if i % 5 == 0:\n",
        "    print(i, '- Buzz')"
      ]
    },
    {
      "cell_type": "markdown",
      "metadata": {
        "id": "SWlItNVAZx3l"
      },
      "source": [
        "#**FUNÇÕES**"
      ]
    },
    {
      "cell_type": "code",
      "execution_count": null,
      "metadata": {
        "id": "LnW1qJ0SZ3QH"
      },
      "outputs": [],
      "source": [
        "SINTAXE: def name_of_function(arg1, arg2):\n",
        "\n",
        "          function doc\n",
        "\n",
        "          Do something here\n",
        "\n",
        "          return"
      ]
    },
    {
      "cell_type": "code",
      "execution_count": null,
      "metadata": {
        "id": "YvjJbdXobWvc"
      },
      "outputs": [],
      "source": [
        "def say_hello(): #The function has been defined\n",
        "  print('Hello')\n",
        "\n",
        "say_hello() #call the function"
      ]
    },
    {
      "cell_type": "code",
      "execution_count": null,
      "metadata": {
        "id": "LaDXBFY2C_dA"
      },
      "outputs": [],
      "source": [
        "def greeting(name):\n",
        "  print('Hello, %s' %name)\n",
        "greeting('Rodrigo')"
      ]
    },
    {
      "cell_type": "code",
      "execution_count": null,
      "metadata": {
        "id": "PLQp0T6pc6CD",
        "colab": {
          "base_uri": "https://localhost:8080/"
        },
        "outputId": "c44bbc12-f55b-4e0c-f553-a958e720b44c"
      },
      "outputs": [
        {
          "output_type": "stream",
          "name": "stdout",
          "text": [
            "Hi, what's your name?\n",
            " Dudu\n",
            "And your last name?\n",
            "Tall\n",
            "Hello, Dudu Tall\n"
          ]
        }
      ],
      "source": [
        "def greeting():\n",
        "\n",
        "  name = input('Hi, what\\'s your name?\\n ')\n",
        "  lname = input('And your last name?\\n')\n",
        "\n",
        "  print('Hello, %s %s' %(name, lname))\n",
        "\n",
        "greeting()"
      ]
    },
    {
      "cell_type": "code",
      "execution_count": null,
      "metadata": {
        "id": "2GMTXMAiWdNR",
        "colab": {
          "base_uri": "https://localhost:8080/"
        },
        "outputId": "e9155656-f773-4ff5-e733-92f3245852cc"
      },
      "outputs": [
        {
          "output_type": "stream",
          "name": "stdout",
          "text": [
            "13 \n",
            "onetwo\n"
          ]
        }
      ],
      "source": [
        "def add_num(num1, num2):\n",
        "  return num1+num2\n",
        "\n",
        "result = add_num(4,9)\n",
        "result2 = add_num('\\n''one', 'two') #\\n next line\n",
        "\n",
        "print(result, result2)"
      ]
    },
    {
      "cell_type": "code",
      "execution_count": null,
      "metadata": {
        "id": "oFnsAnhtaSRW",
        "colab": {
          "base_uri": "https://localhost:8080/"
        },
        "outputId": "61a81afb-a581-429d-a238-9b6d3977ca7e"
      },
      "outputs": [
        {
          "output_type": "stream",
          "name": "stdout",
          "text": [
            "Is prime number\n",
            "Is prime number\n",
            "Is prime number\n"
          ]
        }
      ],
      "source": [
        "def is_prime(num):\n",
        "\n",
        "  for n in range(2, num):\n",
        "    if num % n == 0:\n",
        "      print('It is not prime number')\n",
        "      break\n",
        "    else:\n",
        "      print('Is prime number')\n",
        "\n",
        "is_prime(5)"
      ]
    },
    {
      "cell_type": "code",
      "execution_count": null,
      "metadata": {
        "id": "oWY7LTieZglR"
      },
      "outputs": [],
      "source": [
        "def is_prime(num):\n",
        "\n",
        "  x = 0 #creat to do repeat numbering\n",
        "\n",
        "  for i in range(1, num + 1): #\n",
        "    if num % i == 0:\n",
        "      print('\\033[32m', end = '') #end = '' It's for each to stand by each other ;\n",
        "      x += 1                      #\\033[32m color green\n",
        "    else:\n",
        "      print('\\033[31m', end = '') #\\033[33m color red\n",
        "    print('{} '.format(i), end = '')\n",
        "  print('\\n\\033[39mThe number {} was divisible {} times'.format(num, x))\n",
        "  if x == 2:\n",
        "    print('So it is a prime number!')\n",
        "  else:\n",
        "    print('So it is not a prime number!')\n",
        "\n",
        "is_prime(11)"
      ]
    },
    {
      "cell_type": "markdown",
      "metadata": {
        "id": "hNFR_Zelq4CP"
      },
      "source": [
        "# **LISTA**"
      ]
    },
    {
      "cell_type": "markdown",
      "source": [
        "1- recomendado para estruturas homogeneas, lista com elementos do mesmo tipo.\n",
        "2 - Sintaxe []\n",
        "3 - Mutáveis\n",
        "4 - Mais lentas que tuplas (notável com muitos elementos), usa muitas operações.\n",
        "5 - manter ordem\n",
        "6 - lista mutável, pode substituir (nome_da_lista[localização: 0,1,2....)] = item_novo), adicionar (nome_da_lista.append) e remover (nome_da_lista.pop) elementos."
      ],
      "metadata": {
        "id": "-5wUDwtq1Ovs"
      }
    },
    {
      "cell_type": "code",
      "execution_count": null,
      "metadata": {
        "id": "GX614Sdhqx27",
        "colab": {
          "base_uri": "https://localhost:8080/"
        },
        "outputId": "12ccffe7-4511-40a4-d96b-5f1210d703e0"
      },
      "outputs": [
        {
          "output_type": "execute_result",
          "data": {
            "text/plain": [
              "3"
            ]
          },
          "metadata": {},
          "execution_count": 39
        }
      ],
      "source": [
        "# o len vai dizer quantos itens tem na lista\n",
        "l = [1, 2, 3]\n",
        "l1 = [1, 'amendoin', 15.666]\n",
        "\n",
        "len(l)"
      ]
    },
    {
      "cell_type": "code",
      "execution_count": null,
      "metadata": {
        "id": "OqPb2rvmsz8D",
        "colab": {
          "base_uri": "https://localhost:8080/"
        },
        "outputId": "3f0e1267-5d72-4b4f-ed76-352632550fa1"
      },
      "outputs": [
        {
          "output_type": "stream",
          "name": "stdout",
          "text": [
            "one\n",
            "['one', 'two', 'three']\n",
            "['one', 'two', 'three', 4.55, 'new']\n",
            "['one', 'two', 'three', 4.55, 'one', 'two', 'three', 4.55]\n"
          ]
        }
      ],
      "source": [
        "#indexar e cortar funciona nas listas igual nas strings\n",
        "lista = ['one', 'two', 'three', 4.55]\n",
        "\n",
        "print(lista[0])\n",
        "\n",
        "print(lista[:3])\n",
        "\n",
        "#podemos usar o concatenar\n",
        "\n",
        "print(lista + ['new'])\n",
        "\n",
        "print(lista*2)\n",
        "\n",
        "\n"
      ]
    },
    {
      "cell_type": "code",
      "execution_count": null,
      "metadata": {
        "id": "jt-iZ25ytrXo",
        "colab": {
          "base_uri": "https://localhost:8080/"
        },
        "outputId": "91294b66-1079-444a-c9bc-fc3419aeab1b"
      },
      "outputs": [
        {
          "output_type": "stream",
          "name": "stdout",
          "text": [
            "['one', 'two', 'three', 4.55, 'dril']\n",
            "['one', 'two', 'three', 4.55]\n",
            "one\n",
            "['two', 'three', 4.55]\n"
          ]
        }
      ],
      "source": [
        "# Usando o append() podemos anexar um item permanentemente\n",
        "lista = ['one', 'two', 'three', 4.55]\n",
        "\n",
        "lista.append('dril')\n",
        "\n",
        "print(lista)\n",
        "\n",
        "# O pop() retira um item permanentemente, por padrão o último item da lista, mas, podemos espeíficar.\n",
        "\n",
        "lista.pop()\n",
        "\n",
        "print(lista)\n",
        "\n",
        "popped_item = lista.pop(0) # atribuir o item retirado\n",
        "\n",
        "print(popped_item)\n",
        "\n",
        "print(lista)"
      ]
    },
    {
      "cell_type": "code",
      "execution_count": null,
      "metadata": {
        "id": "Kf3poqWIinW3"
      },
      "outputs": [],
      "source": [
        "#podemos usar os métodos sort() e reverse()\n",
        "a = ['x', 'b', 'c', 'a']\n",
        "\n",
        "a.sort() #nesse caso ordena em ordem alfabetica\n",
        "\n",
        "print(a)\n",
        "\n",
        "a.reverse() #inverte a lista\n",
        "\n",
        "print(a)"
      ]
    },
    {
      "cell_type": "markdown",
      "metadata": {
        "id": "fxSWZR10la2i"
      },
      "source": [
        "LINHAS ANINHADAS\n"
      ]
    },
    {
      "cell_type": "code",
      "execution_count": null,
      "metadata": {
        "id": "izgzB8Q_lX6c",
        "colab": {
          "base_uri": "https://localhost:8080/"
        },
        "outputId": "4b97f133-431b-4721-e69d-6a656aa79fe4"
      },
      "outputs": [
        {
          "output_type": "stream",
          "name": "stdout",
          "text": [
            "[[1, 2, 3], [4, 5, 6], [7, 8, 9]]\n",
            "[1, 2, 3]\n",
            "1\n"
          ]
        }
      ],
      "source": [
        "# PODEMOS COLCOAR UMA SLISTA DENTRO DE OUTRA LISTA.\n",
        "l1 = [1,2,3]\n",
        "l2 = [4,5,6]\n",
        "l3 = [7,8,9]\n",
        "\n",
        "matrix = [l1, l2, l3]\n",
        "\n",
        "print(matrix)\n",
        "\n",
        "#podemos usar a indexação\n",
        "print(matrix[0]) #pegar o primeiro item da matrix\n",
        "\n",
        "print(matrix[0][0]) #pegar o primeiro item do primeiro item da matrix"
      ]
    },
    {
      "cell_type": "code",
      "execution_count": null,
      "metadata": {
        "id": "FOmyFH6Tma7Q"
      },
      "outputs": [],
      "source": [
        "l = [5,3,4,6,1]\n",
        "\n",
        "l.sort()\n",
        "\n",
        "print(l)"
      ]
    },
    {
      "cell_type": "markdown",
      "source": [],
      "metadata": {
        "id": "Q_mE1fro-XWi"
      }
    },
    {
      "cell_type": "markdown",
      "metadata": {
        "id": "pDEKzx4Gzdpq"
      },
      "source": [
        "# **TUPLAS**"
      ]
    },
    {
      "cell_type": "markdown",
      "source": [
        "1 - imutáveis\n",
        "2 - Sintax: ()\n",
        "3 - Mais rápidas que lista\n",
        "4 - ordem importa"
      ],
      "metadata": {
        "id": "aSCcnloa6eX5"
      }
    },
    {
      "cell_type": "code",
      "execution_count": null,
      "metadata": {
        "id": "klx5eylgzcDV"
      },
      "outputs": [],
      "source": [
        "# AS TUPLAS SÃO PARECIDAS COM AS LISTAS, PORÉM, SÃO IMUTÁVEIS.\n",
        "\n",
        "t = (1,2,3)\n",
        "\n",
        "print(len(t)) #o metodo len() funciona\n",
        "\n",
        "print(t[0]) #  aindexaão funciona tambem\n",
        "\n",
        "#a tupla tem alguns métodos internos, poém menos que a lista.\n",
        "print(t.index(1)) #coloque o valor do parâmetro para retornar o índice do mesmo.\n",
        "\n",
        "print(t.count(3)) #var.count(), ver o numero de vezes que o item aparece na tupla\n"
      ]
    },
    {
      "cell_type": "code",
      "execution_count": null,
      "metadata": {
        "id": "_M1tK4n91ALi",
        "colab": {
          "base_uri": "https://localhost:8080/",
          "height": 245
        },
        "outputId": "c9955cc3-d42a-458b-ecc7-552c72797be5"
      },
      "outputs": [
        {
          "output_type": "error",
          "ename": "TypeError",
          "evalue": "ignored",
          "traceback": [
            "\u001b[0;31m---------------------------------------------------------------------------\u001b[0m",
            "\u001b[0;31mTypeError\u001b[0m                                 Traceback (most recent call last)",
            "\u001b[0;32m<ipython-input-1-1461975f159a>\u001b[0m in \u001b[0;36m<cell line: 3>\u001b[0;34m()\u001b[0m\n\u001b[1;32m      1\u001b[0m \u001b[0;31m#elas são imutaveis\u001b[0m\u001b[0;34m\u001b[0m\u001b[0;34m\u001b[0m\u001b[0m\n\u001b[1;32m      2\u001b[0m \u001b[0mt\u001b[0m \u001b[0;34m=\u001b[0m \u001b[0;34m(\u001b[0m\u001b[0;36m1\u001b[0m\u001b[0;34m,\u001b[0m\u001b[0;36m2\u001b[0m\u001b[0;34m,\u001b[0m\u001b[0;36m3\u001b[0m\u001b[0;34m)\u001b[0m\u001b[0;34m\u001b[0m\u001b[0;34m\u001b[0m\u001b[0m\n\u001b[0;32m----> 3\u001b[0;31m \u001b[0mt\u001b[0m\u001b[0;34m[\u001b[0m\u001b[0;36m0\u001b[0m\u001b[0;34m]\u001b[0m \u001b[0;34m=\u001b[0m \u001b[0;36m9\u001b[0m\u001b[0;34m\u001b[0m\u001b[0;34m\u001b[0m\u001b[0m\n\u001b[0m\u001b[1;32m      4\u001b[0m \u001b[0;34m\u001b[0m\u001b[0m\n\u001b[1;32m      5\u001b[0m \u001b[0mprint\u001b[0m\u001b[0;34m(\u001b[0m\u001b[0mt\u001b[0m\u001b[0;34m)\u001b[0m\u001b[0;34m\u001b[0m\u001b[0;34m\u001b[0m\u001b[0m\n",
            "\u001b[0;31mTypeError\u001b[0m: 'tuple' object does not support item assignment"
          ]
        }
      ],
      "source": [
        "#elas são imutaveis\n",
        "t = (1,2,3)\n",
        "t[0] = 9\n",
        "\n",
        "print(t)"
      ]
    },
    {
      "cell_type": "code",
      "execution_count": null,
      "metadata": {
        "id": "z_E4R0YX1S8p"
      },
      "outputs": [],
      "source": [
        "#elas são imutaveis\n",
        "t = (1,2,3)\n",
        "t.append(9)\n",
        "\n",
        "print(t)"
      ]
    },
    {
      "cell_type": "code",
      "execution_count": null,
      "metadata": {
        "id": "s128oVUa1hno",
        "colab": {
          "base_uri": "https://localhost:8080/"
        },
        "outputId": "400a2ba2-efec-4bfc-a736-c72cfa659e5a"
      },
      "outputs": [
        {
          "output_type": "execute_result",
          "data": {
            "text/plain": [
              "(1, 2, 3, 4, 5, 6, 'a')"
            ]
          },
          "metadata": {},
          "execution_count": 2
        }
      ],
      "source": [
        "#convertendo uma lista para uma tupla: tuple(var)\n",
        "\n",
        "l = [1,2,3,4,5,6, 'a']\n",
        "\n",
        "tuple(l)\n"
      ]
    },
    {
      "cell_type": "markdown",
      "metadata": {
        "id": "d3e9y_5Q10Vu"
      },
      "source": [
        "# **SET**"
      ]
    },
    {
      "cell_type": "markdown",
      "source": [
        "1 - Armazena elementos não ordenados e sem índices\n",
        "2 - Não permite duplicatas\n",
        "3 - São como os conuuntos da matemática\n",
        "4 - Rápidos"
      ],
      "metadata": {
        "id": "QxwXuXqR7c6J"
      }
    },
    {
      "cell_type": "code",
      "execution_count": null,
      "metadata": {
        "id": "9r3HxgML13sE",
        "colab": {
          "base_uri": "https://localhost:8080/"
        },
        "outputId": "1f4f98a4-71d0-4305-9d46-22a4f8d9bd80"
      },
      "outputs": [
        {
          "output_type": "stream",
          "name": "stdout",
          "text": [
            "{'amendoa'}\n",
            "{3, 'amendoa'}\n",
            "{3, 'amendoa'}\n"
          ]
        }
      ],
      "source": [
        "# OS SETS SÃO UMA COLEÇÃOS NÃO ORDENADA DE ELEMENTOS ÚNICOS. set()\n",
        "\n",
        "x = set()\n",
        "\n",
        "#se adiciona um elemento ao set usando o método add()\n",
        "x.add('amendoa')\n",
        "\n",
        "print(x)\n",
        "\n",
        "x.add(3)\n",
        "\n",
        "print(x)\n",
        "\n",
        "x.add(3) #cnão é possivel adicionar mais de um do mesmo item.\n",
        "\n",
        "print(x)"
      ]
    },
    {
      "cell_type": "code",
      "execution_count": null,
      "metadata": {
        "id": "GLx2-jg43Cq9",
        "colab": {
          "base_uri": "https://localhost:8080/"
        },
        "outputId": "a5a84629-b9b9-40ce-f14f-54b35161ebdc"
      },
      "outputs": [
        {
          "output_type": "stream",
          "name": "stdout",
          "text": [
            "{1, 2, 5, 8, 9}\n"
          ]
        }
      ],
      "source": [
        "#podemos usar o método set() para pegar os itens unicos de uma lista\n",
        "\n",
        "l = [1,1,1,2,2,5,5,5,8,9,9,9]\n",
        "\n",
        "l = set(l)\n",
        "\n",
        "print(l)\n",
        "\n"
      ]
    },
    {
      "cell_type": "markdown",
      "metadata": {
        "id": "xf6XFd-nmt3m"
      },
      "source": [
        "# **DICIONÁRIOS**"
      ]
    },
    {
      "cell_type": "markdown",
      "metadata": {
        "id": "zZM56UFAmxUy"
      },
      "source": [
        "MAPEAMENTO: Coleção de objetos que são armazenados por uma chave. Não reterão a ordem pois possuem objetos definidos por uma chave.\n",
        "* 1 - SEM ORDEM\n",
        "* 2 - RÁPIDOS\n",
        "* UMA CHAVE VAI SER ASSOCIADA A UM DETERMINADO VALOR: {'key1': 'value1'}\n",
        "tabela hash"
      ]
    },
    {
      "cell_type": "code",
      "execution_count": null,
      "metadata": {
        "id": "P3FDeh3onbqq",
        "colab": {
          "base_uri": "https://localhost:8080/"
        },
        "outputId": "41d92fcc-2a63-40c9-ddb4-05716f26c7e5"
      },
      "outputs": [
        {
          "output_type": "stream",
          "name": "stdout",
          "text": [
            "cadeira\n"
          ]
        }
      ],
      "source": [
        "#sintaxe: {'key':'value'}\n",
        "my_dict = {'key1':'value1','objeto': 'cadeira', 'num': 123.888}\n",
        "\n",
        "print(my_dict['objeto'])\n"
      ]
    },
    {
      "cell_type": "code",
      "execution_count": null,
      "metadata": {
        "id": "PweBdOlsmCM1",
        "colab": {
          "base_uri": "https://localhost:8080/"
        },
        "outputId": "da1287df-cc45-4bfb-ccd9-2e4607065c1e"
      },
      "outputs": [
        {
          "output_type": "stream",
          "name": "stdout",
          "text": [
            "arroz\n",
            "ARROZ\n",
            "0\n"
          ]
        }
      ],
      "source": [
        "#podemos chamar um item de uma lista m refenrecia a uma chave\n",
        "dict2 = {'comida':['arroz', 'feijão'], 'obj':'cadeira', 'num': 22}\n",
        "\n",
        "print(dict2['comida'][0])\n",
        "\n",
        "#podemos usar alguns métodos\n",
        "print(dict2['comida'][0].upper())\n",
        "\n",
        "#podemos alterar valores\n",
        "dict2['num'] = dict2['num'] - 22\n",
        "print(dict2['num'])"
      ]
    },
    {
      "cell_type": "code",
      "execution_count": null,
      "metadata": {
        "id": "l9DKGUZcnm8Y"
      },
      "outputs": [],
      "source": [
        "#podemos alterar valores DESS FORMA, POREM ELE ATRIBUI O SINAL AO SEU VALOR E NÃO FAZ A OPERAÇÃO MATEMATICA.\n",
        "dict2['num']-=22\n",
        "print(dict2['num'])\n"
      ]
    },
    {
      "cell_type": "code",
      "execution_count": null,
      "metadata": {
        "id": "x4qW09JUqupq"
      },
      "outputs": [],
      "source": [
        "#podemos criar chaves por atribuição, criando um dicionário vazio.\n",
        "\n",
        "d = {}\n",
        "\n",
        "d['animal'] = 'Dog'\n",
        "d['answer'] = 42\n",
        "\n",
        "print(d)"
      ]
    },
    {
      "cell_type": "code",
      "execution_count": null,
      "metadata": {
        "id": "TtnzqdqVrPyI"
      },
      "outputs": [],
      "source": [
        "#aninhamento de dicionário\n",
        "\n",
        "d = {'key1':{'nestkey':{'subnestkey':'value'}}}\n",
        "\n",
        "print(d['key1']['nestkey']['subnestkey'])"
      ]
    },
    {
      "cell_type": "code",
      "execution_count": null,
      "metadata": {
        "id": "_4dq1LdRsLB1"
      },
      "outputs": [],
      "source": [
        "# var.keys() chama as chaves do dicionario, var.values() chama os valores e Var.items() retorna as tuplas.\n",
        "\n",
        "d = {'key1':1, 'key2':2, 'key3': 3}\n",
        "\n",
        "print(d.keys())\n",
        "\n",
        "print(d.values())\n",
        "\n",
        "print(d.items())\n"
      ]
    },
    {
      "cell_type": "code",
      "source": [
        "hash(\"edu\")"
      ],
      "metadata": {
        "colab": {
          "base_uri": "https://localhost:8080/"
        },
        "id": "8VS5WhfoNOf_",
        "outputId": "f9b0a5c0-3a47-436e-a196-eae354cfb09a"
      },
      "execution_count": null,
      "outputs": [
        {
          "output_type": "execute_result",
          "data": {
            "text/plain": [
              "-2989467197002744998"
            ]
          },
          "metadata": {},
          "execution_count": 3
        }
      ]
    },
    {
      "cell_type": "code",
      "source": [
        "\n",
        "\n",
        "def fib(x):\n",
        "  if x < 2:\n",
        "   return 1\n",
        "  else:\n",
        "   x(x-1) + x(x - 2)\n",
        "\n",
        "x = 4\n",
        "\n",
        "print(x)\n",
        "\n",
        "\n",
        "\n"
      ],
      "metadata": {
        "colab": {
          "base_uri": "https://localhost:8080/"
        },
        "id": "slR8-OMWjFGc",
        "outputId": "3802fd44-6da7-46c6-8e19-6901a09844a6"
      },
      "execution_count": null,
      "outputs": [
        {
          "output_type": "stream",
          "name": "stdout",
          "text": [
            "4\n"
          ]
        }
      ]
    },
    {
      "cell_type": "markdown",
      "source": [
        "#**ARRAY**"
      ],
      "metadata": {
        "id": "E0H0KyNb-bsq"
      }
    },
    {
      "cell_type": "code",
      "source": [
        "# prompt: de exemplos de códigos array\n",
        "\n",
        "# Create an array of integers\n",
        "arr = [1, 2, 3, 4, 5]\n",
        "\n",
        "# Access an element of the array\n",
        "print(arr[2])\n",
        "\n",
        "# Change an element of the array\n",
        "arr[1] = 10\n",
        "\n",
        "# Print the array\n",
        "print(arr)\n",
        "\n",
        "# Get the length of the array\n",
        "print(len(arr))\n",
        "\n",
        "# Add an element to the end of the array\n",
        "arr.append(6)\n",
        "\n",
        "# Print the array\n",
        "print(arr)\n",
        "\n",
        "# Remove an element from the end of the array\n",
        "arr.pop()\n",
        "\n",
        "# Print the array\n",
        "print(arr)\n",
        "\n",
        "# Remove an element from the middle of the array\n",
        "del arr[2]\n",
        "\n",
        "# Print the array\n",
        "print(arr)\n",
        "\n",
        "# Sort the array\n",
        "arr.sort()\n",
        "\n",
        "# Print the array\n",
        "print(arr)\n",
        "\n",
        "# Reverse the array\n",
        "arr.reverse()\n",
        "\n",
        "# Print the array\n",
        "print(arr)\n"
      ],
      "metadata": {
        "id": "ejSUZVF4-lJg"
      },
      "execution_count": null,
      "outputs": []
    }
  ],
  "metadata": {
    "colab": {
      "collapsed_sections": [
        "1NIJuLHKtx1r",
        "xJ-W_UFlZvGC",
        "v7CUDhG-TOvH",
        "BGRfwGRCbiy2",
        "hNFR_Zelq4CP",
        "xf6XFd-nmt3m",
        "pDEKzx4Gzdpq",
        "Ad31DRLpkdPg",
        "VWUQsMHd-Nyd",
        "EJj7d4n6O1hU",
        "SWlItNVAZx3l"
      ],
      "provenance": [],
      "toc_visible": true
    },
    "kernelspec": {
      "display_name": "Python 3",
      "name": "python3"
    },
    "language_info": {
      "name": "python"
    }
  },
  "nbformat": 4,
  "nbformat_minor": 0
}